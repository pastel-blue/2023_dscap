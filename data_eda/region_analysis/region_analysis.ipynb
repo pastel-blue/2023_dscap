{
 "cells": [
  {
   "cell_type": "code",
   "execution_count": 4,
   "metadata": {},
   "outputs": [],
   "source": [
    "import pandas as pd\n",
    "import numpy as np\n",
    "import csv\n",
    "import re\n",
    "import ast\n",
    "import matplotlib.pyplot as plt\n",
    "from matplotlib import font_manager, rc"
   ]
  },
  {
   "cell_type": "code",
   "execution_count": 5,
   "metadata": {},
   "outputs": [
    {
     "name": "stdout",
     "output_type": "stream",
     "text": [
      "Collecting konlpy\n",
      "  Using cached konlpy-0.6.0-py2.py3-none-any.whl (19.4 MB)\n",
      "Collecting JPype1>=0.7.0\n",
      "  Using cached JPype1-1.4.1-cp310-cp310-macosx_10_9_universal2.whl (590 kB)\n",
      "Requirement already satisfied: numpy>=1.6 in /Users/stella/anaconda3/lib/python3.10/site-packages (from konlpy) (1.23.5)\n",
      "Requirement already satisfied: lxml>=4.1.0 in /Users/stella/anaconda3/lib/python3.10/site-packages (from konlpy) (4.9.1)\n",
      "Requirement already satisfied: packaging in /Users/stella/anaconda3/lib/python3.10/site-packages (from JPype1>=0.7.0->konlpy) (22.0)\n",
      "Installing collected packages: JPype1, konlpy\n",
      "Successfully installed JPype1-1.4.1 konlpy-0.6.0\n"
     ]
    }
   ],
   "source": [
    "!pip install konlpy"
   ]
  },
  {
   "cell_type": "code",
   "execution_count": 10,
   "metadata": {
    "scrolled": false
   },
   "outputs": [
    {
     "name": "stdout",
     "output_type": "stream",
     "text": [
      "#! /bin/bash\r\n",
      "#\r\n",
      "# Copyright 2019 Team KoNLPy\r\n",
      "#\r\n",
      "# Licensed under the Apache License, Version 2.0 (the \"License\");\r\n",
      "# you may not use this file except in compliance with the License.\r\n",
      "# You may obtain a copy of the License at\r\n",
      "#\r\n",
      "#     http://www.apache.org/licenses/LICENSE-2.0\r\n",
      "#\r\n",
      "# Unless required by applicable law or agreed to in writing, software\r\n",
      "# distributed under the License is distributed on an \"AS IS\" BASIS,\r\n",
      "# WITHOUT WARRANTIES OR CONDITIONS OF ANY KIND, either express or implied.\r\n",
      "# See the License for the specific language governing permissions and\r\n",
      "# limitations under the License.\r\n",
      "#\r\n",
      "\r\n",
      "# Set mecab related variable(s)\r\n",
      "mecab_dicdir=\"/usr/local/lib/mecab/dic/mecab-ko-dic\"\r\n",
      "\r\n",
      "# Exit as soon as we fail\r\n",
      "set -e\r\n",
      "\r\n",
      "# Determine OS\r\n",
      "os=$(uname)\r\n",
      "if [[ ! $os == \"Linux\" ]] && [[ ! $os == \"Darwin\" ]]; then\r\n",
      "    echo \"This script does not support this OS.\"\r\n",
      "    echo \"Try consulting https://github.com/konlpy/konlpy/blob/master/scripts/mecab.sh\"\r\n",
      "    exit 0\r\n",
      "fi\r\n",
      "\r\n",
      "# Determine sudo\r\n",
      "if hash \"sudo\" &>/dev/null; then\r\n",
      "    sudo=\"sudo\"\r\n",
      "else\r\n",
      "    sudo=\"\"\r\n",
      "fi\r\n",
      "\r\n",
      "# Determine python\r\n",
      "# TODO: Prefer python3 and Respect pyenv\r\n",
      "python=\"python3\"\r\n",
      "if hash \"pyenv\" &>/dev/null; then\r\n",
      "    python=\"python\"\r\n",
      "fi\r\n",
      "\r\n",
      "# Determine python site location are writable.\r\n",
      "check_python_site_location_is_writable(){\r\n",
      "    $python - <<EOF\r\n",
      "import site, os\r\n",
      "found = False\r\n",
      "for dir in site.getsitepackages():\r\n",
      "    if not os.path.isdir(dir):\r\n",
      "        continue\r\n",
      "    if os.access(dir, os.W_OK | os.X_OK):\r\n",
      "        found = True\r\n",
      "        break\r\n",
      "print(1 if found else 0)\r\n",
      "EOF\r\n",
      "}\r\n",
      "at_user_site=\"\"\r\n",
      "if [[ \"$(check_python_site_location_is_writable)\" == \"0\" ]]; then\r\n",
      "    at_user_site=\"--user\"\r\n",
      "fi\r\n",
      "\r\n",
      "install_mecab_ko(){\r\n",
      "    cd /tmp\r\n",
      "    curl -LO https://bitbucket.org/eunjeon/mecab-ko/downloads/mecab-0.996-ko-0.9.2.tar.gz\r\n",
      "    tar zxfv mecab-0.996-ko-0.9.2.tar.gz\r\n",
      "    cd mecab-0.996-ko-0.9.2\r\n",
      "    ./configure\r\n",
      "    make\r\n",
      "    make check\r\n",
      "    $sudo make install\r\n",
      "}\r\n",
      "\r\n",
      "install_automake(){\r\n",
      "    ## install requirement automake1.11\r\n",
      "    # TODO: if not [automake --version]\r\n",
      "    if [ \"$os\" == \"Linux\" ]; then\r\n",
      "        if [ \"$(grep -Ei 'debian|buntu|mint' /etc/*release)\" ]; then\r\n",
      "            $sudo apt-get update && $sudo apt-get install -y automake\r\n",
      "        elif [ \"$(grep -Ei 'fedora|redhat' /etc/*release)\" ]; then\r\n",
      "            $sudo yum install -y automake diffutils make\r\n",
      "        else\r\n",
      "            ##\r\n",
      "            # Autoconf\r\n",
      "            #\r\n",
      "            # stage directory\r\n",
      "            builddir=`mktemp -d` && cd $builddir\r\n",
      "\r\n",
      "            # download and extract source\r\n",
      "            curl -LO http://ftpmirror.gnu.org/autoconf/autoconf-latest.tar.gz\r\n",
      "            tar -zxvf autoconf-latest.tar.gz\r\n",
      "            rm autoconf-latest.tar.gz\r\n",
      "\r\n",
      "            # configure, make, install --prefix=/usr/local\r\n",
      "            cd autoconf*\r\n",
      "            ./configure\r\n",
      "            make\r\n",
      "            $sudo make install\r\n",
      "\r\n",
      "            # erase stage dir\r\n",
      "            rm -rf $builddir\r\n",
      "\r\n",
      "\r\n",
      "            ##\r\n",
      "            # Automake\r\n",
      "            #\r\n",
      "            # stage directory\r\n",
      "            builddir=`mktemp -d` && cd $builddir\r\n",
      "\r\n",
      "            # download and extract source\r\n",
      "            curl -LO http://ftpmirror.gnu.org/automake/automake-1.11.tar.gz\r\n",
      "            tar -zxvf automake-1.11.tar.gz\r\n",
      "\r\n",
      "            # configure, make, install --prefix=/usr/local\r\n",
      "            cd automake-1.11\r\n",
      "            ./configure\r\n",
      "            make\r\n",
      "            $sudo make install\r\n",
      "\r\n",
      "            # erase stage dir\r\n",
      "            rm -rf $builddir\r\n",
      "        fi\r\n",
      "\r\n",
      "    elif [ \"$os\" == \"Darwin\" ]; then\r\n",
      "        if [[ $(command -v brew) == \"\" ]]; then\r\n",
      "            echo \"This script require Homebrew!\"\r\n",
      "            echo \"Try https://brew.sh/\"\r\n",
      "            exit 0\r\n",
      "        fi\r\n",
      "        brew install automake\r\n",
      "    fi\r\n",
      "}\r\n",
      "\r\n",
      "install_mecab_ko_dic(){\r\n",
      "    echo \"Install mecab-ko-dic\"\r\n",
      "    cd /tmp\r\n",
      "    curl -LO https://bitbucket.org/eunjeon/mecab-ko-dic/downloads/mecab-ko-dic-2.1.1-20180720.tar.gz\r\n",
      "    tar -zxvf mecab-ko-dic-2.1.1-20180720.tar.gz\r\n",
      "    cd mecab-ko-dic-2.1.1-20180720\r\n",
      "    ./autogen.sh\r\n",
      "    ./configure\r\n",
      "    if [[ $os == \"Linux\" ]]; then\r\n",
      "        mecab-config --libs-only-L | $sudo tee /etc/ld.so.conf.d/mecab.conf  # XXX: Resolve #271, #182, #133\r\n",
      "        $sudo ldconfig\r\n",
      "    fi\r\n",
      "    make\r\n",
      "    $sudo sh -c 'echo \"dicdir=/usr/local/lib/mecab/dic/mecab-ko-dic\" > /usr/local/etc/mecabrc'\r\n",
      "    $sudo make install\r\n",
      "}\r\n",
      "\r\n",
      "install_mecab_python(){\r\n",
      "    pushd /tmp\r\n",
      "    if [[ ! -d \"mecab-python-0.996\" ]]; then\r\n",
      "        git clone https://bitbucket.org/eunjeon/mecab-python-0.996.git\r\n",
      "    fi\r\n",
      "    popd\r\n",
      "    if [[ \"$os\" == \"Darwin\" ]]; then\r\n",
      "        CFLAGS=-stdlib=libc++ $python -m pip install $at_user_site /tmp/mecab-python-0.996\r\n",
      "    else\r\n",
      "        # the gcc compiler has no such commandline option as -stdilb, so let's not use it. See discussion on #391.\r\n",
      "        $python -m pip install $at_user_site /tmp/mecab-python-0.996\r\n",
      "    fi\r\n",
      "}\r\n",
      "\r\n",
      "\r\n",
      "if ! hash \"automake\" &>/dev/null; then\r\n",
      "    echo \"Installing automake (A dependency for mecab-ko)\"\r\n",
      "    install_automake\r\n",
      "fi\r\n",
      "\r\n",
      "if hash \"mecab\" &>/dev/null; then\r\n",
      "    echo \"mecab-ko is already installed\"\r\n",
      "else\r\n",
      "    echo \"Install mecab-ko\"\r\n",
      "    install_mecab_ko\r\n",
      "fi\r\n",
      "\r\n",
      "if [[ -d $mecab_dicdir ]]; then\r\n",
      "    echo \"mecab-ko-dic is already installed\"\r\n",
      "else\r\n",
      "    echo \"Install mecab-ko-dic\"\r\n",
      "    install_mecab_ko_dic\r\n",
      "fi\r\n",
      "\r\n",
      "if [[ $($python -c 'import pkgutil; print(1 if pkgutil.find_loader(\"MeCab\") else 0)') == \"1\" ]]; then\r\n",
      "    echo \"mecab-python is already installed\"\r\n",
      "else\r\n",
      "    echo \"Install mecab-python\"\r\n",
      "    install_mecab_python\r\n",
      "fi\r\n",
      "\r\n",
      "echo \"Done.\"\r\n"
     ]
    }
   ],
   "source": [
    "!curl -s https://raw.githubusercontent.com/konlpy/konlpy/master/scripts/mecab.sh"
   ]
  },
  {
   "cell_type": "code",
   "execution_count": 2,
   "metadata": {},
   "outputs": [
    {
     "data": {
      "text/plain": [
       "'/Users/stella/github/2023_dscap/data_eda/region_analysis'"
      ]
     },
     "execution_count": 2,
     "metadata": {},
     "output_type": "execute_result"
    }
   ],
   "source": [
    "pwd"
   ]
  },
  {
   "cell_type": "code",
   "execution_count": 3,
   "metadata": {},
   "outputs": [
    {
     "name": "stdout",
     "output_type": "stream",
     "text": [
      "/Users/stella/github/2023_dscap/twitterdata/final/preprocessed\n"
     ]
    }
   ],
   "source": [
    "cd /Users/stella/github/2023_dscap/twitterdata/final/preprocessed"
   ]
  },
  {
   "cell_type": "code",
   "execution_count": null,
   "metadata": {},
   "outputs": [],
   "source": [
    "def read_df(n):\n",
    "    df = pd.read_csv(n, encoding=\"utf-8\")\n",
    "    \n",
    "    df['okt'] = df['okt'].apply(lambda x: ast.literal_eval(x))\n",
    "    df['komoran'] = df['komoran'].apply(lambda x: ast.literal_eval(x))\n",
    "    df['hannanum'] = df['hannanum'].apply(lambda x: ast.literal_eval(x))\n",
    "    df['kkma'] = df['kkma'].apply(lambda x: ast.literal_eval(x))\n",
    "    df['mecab'] = df['mecab'].apply(lambda x: ast.literal_eval(x))"
   ]
  },
  {
   "cell_type": "code",
   "execution_count": 11,
   "metadata": {},
   "outputs": [
    {
     "ename": "Exception",
     "evalue": "Install MeCab in order to use it: http://konlpy.org/en/latest/install/",
     "output_type": "error",
     "traceback": [
      "\u001b[0;31m---------------------------------------------------------------------------\u001b[0m",
      "\u001b[0;31mNameError\u001b[0m                                 Traceback (most recent call last)",
      "File \u001b[0;32m~/anaconda3/lib/python3.10/site-packages/konlpy/tag/_mecab.py:77\u001b[0m, in \u001b[0;36mMecab.__init__\u001b[0;34m(self, dicpath)\u001b[0m\n\u001b[1;32m     76\u001b[0m \u001b[38;5;28;01mtry\u001b[39;00m:\n\u001b[0;32m---> 77\u001b[0m     \u001b[38;5;28mself\u001b[39m\u001b[38;5;241m.\u001b[39mtagger \u001b[38;5;241m=\u001b[39m \u001b[43mTagger\u001b[49m(\u001b[38;5;124m'\u001b[39m\u001b[38;5;124m-d \u001b[39m\u001b[38;5;132;01m%s\u001b[39;00m\u001b[38;5;124m'\u001b[39m \u001b[38;5;241m%\u001b[39m dicpath)\n\u001b[1;32m     78\u001b[0m     \u001b[38;5;28mself\u001b[39m\u001b[38;5;241m.\u001b[39mtagset \u001b[38;5;241m=\u001b[39m utils\u001b[38;5;241m.\u001b[39mread_json(\u001b[38;5;124m'\u001b[39m\u001b[38;5;132;01m%s\u001b[39;00m\u001b[38;5;124m/data/tagset/mecab.json\u001b[39m\u001b[38;5;124m'\u001b[39m \u001b[38;5;241m%\u001b[39m utils\u001b[38;5;241m.\u001b[39minstallpath)\n",
      "\u001b[0;31mNameError\u001b[0m: name 'Tagger' is not defined",
      "\nDuring handling of the above exception, another exception occurred:\n",
      "\u001b[0;31mException\u001b[0m                                 Traceback (most recent call last)",
      "Cell \u001b[0;32mIn[11], line 2\u001b[0m\n\u001b[1;32m      1\u001b[0m \u001b[38;5;28;01mfrom\u001b[39;00m \u001b[38;5;21;01mkonlpy\u001b[39;00m\u001b[38;5;21;01m.\u001b[39;00m\u001b[38;5;21;01mtag\u001b[39;00m \u001b[38;5;28;01mimport\u001b[39;00m Mecab\n\u001b[0;32m----> 2\u001b[0m mecab \u001b[38;5;241m=\u001b[39m \u001b[43mMecab\u001b[49m\u001b[43m(\u001b[49m\u001b[43m)\u001b[49m\n",
      "File \u001b[0;32m~/anaconda3/lib/python3.10/site-packages/konlpy/tag/_mecab.py:82\u001b[0m, in \u001b[0;36mMecab.__init__\u001b[0;34m(self, dicpath)\u001b[0m\n\u001b[1;32m     80\u001b[0m     \u001b[38;5;28;01mraise\u001b[39;00m \u001b[38;5;167;01mException\u001b[39;00m(\u001b[38;5;124m'\u001b[39m\u001b[38;5;124mThe MeCab dictionary does not exist at \u001b[39m\u001b[38;5;124m\"\u001b[39m\u001b[38;5;132;01m%s\u001b[39;00m\u001b[38;5;124m\"\u001b[39m\u001b[38;5;124m. Is the dictionary correctly installed?\u001b[39m\u001b[38;5;130;01m\\n\u001b[39;00m\u001b[38;5;124mYou can also try entering the dictionary path when initializing the Mecab class: \u001b[39m\u001b[38;5;124m\"\u001b[39m\u001b[38;5;124mMecab(\u001b[39m\u001b[38;5;130;01m\\'\u001b[39;00m\u001b[38;5;124m/some/dic/path\u001b[39m\u001b[38;5;130;01m\\'\u001b[39;00m\u001b[38;5;124m)\u001b[39m\u001b[38;5;124m\"\u001b[39m\u001b[38;5;124m'\u001b[39m \u001b[38;5;241m%\u001b[39m dicpath)\n\u001b[1;32m     81\u001b[0m \u001b[38;5;28;01mexcept\u001b[39;00m \u001b[38;5;167;01mNameError\u001b[39;00m:\n\u001b[0;32m---> 82\u001b[0m     \u001b[38;5;28;01mraise\u001b[39;00m \u001b[38;5;167;01mException\u001b[39;00m(\u001b[38;5;124m'\u001b[39m\u001b[38;5;124mInstall MeCab in order to use it: http://konlpy.org/en/latest/install/\u001b[39m\u001b[38;5;124m'\u001b[39m)\n",
      "\u001b[0;31mException\u001b[0m: Install MeCab in order to use it: http://konlpy.org/en/latest/install/"
     ]
    }
   ],
   "source": [
    "from konlpy.tag import Mecab\n",
    "mecab = Mecab()"
   ]
  },
  {
   "cell_type": "code",
   "execution_count": null,
   "metadata": {},
   "outputs": [],
   "source": [
    "def tokenize(data):\n",
    "    "
   ]
  }
 ],
 "metadata": {
  "kernelspec": {
   "display_name": "Python 3 (ipykernel)",
   "language": "python",
   "name": "python3"
  },
  "language_info": {
   "codemirror_mode": {
    "name": "ipython",
    "version": 3
   },
   "file_extension": ".py",
   "mimetype": "text/x-python",
   "name": "python",
   "nbconvert_exporter": "python",
   "pygments_lexer": "ipython3",
   "version": "3.10.9"
  }
 },
 "nbformat": 4,
 "nbformat_minor": 2
}
