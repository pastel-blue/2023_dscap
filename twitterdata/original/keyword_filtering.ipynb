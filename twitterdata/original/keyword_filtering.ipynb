{
  "nbformat": 4,
  "nbformat_minor": 0,
  "metadata": {
    "colab": {
      "provenance": []
    },
    "kernelspec": {
      "name": "python3",
      "display_name": "Python 3"
    },
    "language_info": {
      "name": "python"
    }
  },
  "cells": [
    {
      "cell_type": "code",
      "execution_count": 1,
      "metadata": {
        "id": "t0blpX-fJGOX"
      },
      "outputs": [],
      "source": [
        "import pandas as pd"
      ]
    },
    {
      "cell_type": "code",
      "source": [
        "ls"
      ],
      "metadata": {
        "colab": {
          "base_uri": "https://localhost:8080/"
        },
        "id": "Il3H2dGIJZl6",
        "outputId": "130c5ed5-63b9-4ece-8929-d630fcd64c9d"
      },
      "execution_count": 6,
      "outputs": [
        {
          "output_type": "stream",
          "name": "stdout",
          "text": [
            "메스암페타민_final.csv  아편_final.csv  \u001b[0m\u001b[01;34msample_data\u001b[0m/  허브.csv  허브.numbers\n"
          ]
        }
      ]
    },
    {
      "cell_type": "markdown",
      "source": [
        "## 필터링 대상\n",
        "- 허브티\n",
        "- 블렌딩\n",
        "- 화분\n",
        "- 쿠팡\n",
        "- 닉네임이 허브인 경우\n"
      ],
      "metadata": {
        "id": "QQF7DRPyPghT"
      }
    },
    {
      "cell_type": "code",
      "source": [
        "허브 = pd.read_csv('허브.csv')"
      ],
      "metadata": {
        "id": "iOLUsC-wJRqo"
      },
      "execution_count": 107,
      "outputs": []
    },
    {
      "cell_type": "code",
      "source": [
        "# 허브티 포함하는 행  삭제\n",
        "허브 = 허브[~허브['content'].str.contains('허브티')]\n",
        "허브 = 허브[~허브['content'].str.contains('블렌딩')]\n",
        "허브 = 허브[~허브['content'].str.contains('허브향')]\n",
        "허브 = 허브[~허브['content'].str.contains('쿠팡')]\n",
        "허브 = 허브[~허브['content'].str.contains('화분')]\n",
        "허브 = 허브[~허브['content'].str.contains('지허브')]"
      ],
      "metadata": {
        "id": "ynpDjdzYP14U"
      },
      "execution_count": 108,
      "outputs": []
    },
    {
      "cell_type": "code",
      "source": [
        "허브.reset_index(drop=True, inplace=True)"
      ],
      "metadata": {
        "id": "hcMst6LhQqaY"
      },
      "execution_count": 109,
      "outputs": []
    },
    {
      "cell_type": "code",
      "source": [
        "# 닉네임에 허브가 포함되어 있지만 마약 게시물 아닌 경우\n",
        "허브_displayname = 허브[허브[\"user.displayname\"].str.contains(\"허브\", na=False)]\n",
        "허브_notrelated = 허브_displayname[허브_displayname['content'].str.contains('액상', na = False) == False]\n",
        "허브_notrelated = 허브_notrelated[허브_notrelated['content'].str.contains('텔레', na = False) == False]\n",
        "허브_notrelated = 허브_notrelated[허브_notrelated['content'].str.contains('브액', na = False) == False]\n",
        "허브_notrelated = 허브_notrelated[허브_notrelated['content'].str.contains('대마', na = False) == False]\n",
        "허브_notrelated = 허브_notrelated[허브_notrelated['content'].str.contains('물뽕', na = False) == False]"
      ],
      "metadata": {
        "id": "Clf8e2eKRKjJ"
      },
      "execution_count": 110,
      "outputs": []
    },
    {
      "cell_type": "code",
      "source": [
        "# 삭제\n",
        "허브.drop(허브_notrelated.index, axis=0, inplace=True)"
      ],
      "metadata": {
        "id": "edPqDTl5YRiN"
      },
      "execution_count": 111,
      "outputs": []
    },
    {
      "cell_type": "code",
      "source": [
        "허브.to_csv('허브_final.csv', index = False)"
      ],
      "metadata": {
        "id": "NCLw6gTOZDrt"
      },
      "execution_count": 112,
      "outputs": []
    },
    {
      "cell_type": "markdown",
      "source": [
        "## 2차 필터링\n",
        "- 데스와\n",
        "- usb\n",
        "- 냄새\n",
        "- 최저가\n",
        "- 질문상자\n",
        "- 포트\n",
        "- nft\n",
        "- 메타버스\n",
        "- 택배\n",
        "- 물류\n",
        "- 맥북\n",
        "- 최애\n",
        "- nct\n",
        "- 재료\n",
        "- 올영\n",
        "- 인덕"
      ],
      "metadata": {
        "id": "BKlaEq9igJbv"
      }
    },
    {
      "cell_type": "code",
      "source": [
        "허브 = pd.read_csv('허브_final (1) 2.csv')"
      ],
      "metadata": {
        "id": "zxbN4F9uhHxu"
      },
      "execution_count": 116,
      "outputs": []
    },
    {
      "cell_type": "code",
      "source": [
        "허브 = 허브[~허브['content'].str.contains('데스와')]\n",
        "허브 = 허브[~허브['content'].str.contains('usb')]\n",
        "허브 = 허브[~허브['content'].str.contains('인덕')]\n",
        "허브 = 허브[~허브['content'].str.contains('올영')]\n",
        "허브 = 허브[~허브['content'].str.contains('재료')]\n",
        "허브 = 허브[~허브['content'].str.contains('nct')]\n",
        "허브 = 허브[~허브['content'].str.contains('데스와')]\n",
        "허브 = 허브[~허브['content'].str.contains('최애')]\n",
        "허브 = 허브[~허브['content'].str.contains('맥북')]\n",
        "허브 = 허브[~허브['content'].str.contains('물류')]\n",
        "허브 = 허브[~허브['content'].str.contains('택배')]\n",
        "허브 = 허브[~허브['content'].str.contains('메타버스')]\n",
        "허브 = 허브[~허브['content'].str.contains('nft')]\n",
        "허브 = 허브[~허브['content'].str.contains('포트')]\n",
        "허브 = 허브[~허브['content'].str.contains('질문상자')]\n",
        "허브 = 허브[~허브['content'].str.contains('최저가')]\n",
        "허브 = 허브[~허브['content'].str.contains('냄새')]\n",
        "허브 = 허브[~허브['content'].str.contains('향기')]"
      ],
      "metadata": {
        "id": "gNBjpMGIhPrt"
      },
      "execution_count": 117,
      "outputs": []
    },
    {
      "cell_type": "code",
      "source": [
        "허브.reset_index(drop=True, inplace=True)"
      ],
      "metadata": {
        "id": "llOU677LhuiB"
      },
      "execution_count": 118,
      "outputs": []
    },
    {
      "cell_type": "code",
      "source": [
        "허브_notrelated = 허브[허브['content'].str.contains('액상', na = False) == False]\n",
        "허브_notrelated = 허브_notrelated[허브_notrelated['content'].str.contains('텔레', na = False) == False]\n",
        "허브_notrelated = 허브_notrelated[허브_notrelated['content'].str.contains('텔 레 그 램', na = False) == False]\n",
        "허브_notrelated = 허브_notrelated[허브_notrelated['content'].str.contains('브액', na = False) == False]\n",
        "허브_notrelated = 허브_notrelated[허브_notrelated['content'].str.contains('대마', na = False) == False]\n",
        "허브_notrelated = 허브_notrelated[허브_notrelated['content'].str.contains('물뽕', na = False) == False]\n",
        "허브_notrelated = 허브_notrelated[허브_notrelated['content'].str.contains('아이스', na = False) == False]\n",
        "허브_notrelated = 허브_notrelated[허브_notrelated['content'].str.contains('ㅌㄹㄱㄹ', na = False) == False]\n",
        "허브_notrelated = 허브_notrelated[허브_notrelated['content'].str.contains('떨', na = False) == False]\n",
        "허브_notrelated = 허브_notrelated[허브_notrelated['content'].str.contains('엑스터시', na = False) == False]\n",
        "허브_notrelated = 허브_notrelated[허브_notrelated['content'].str.contains('엑시터시', na = False) == False]\n",
        "허브_notrelated = 허브_notrelated[허브_notrelated['content'].str.contains('도리도리', na = False) == False]\n",
        "허브_notrelated = 허브_notrelated[허브_notrelated['content'].str.contains('마약', na = False) == False]\n",
        "허브_notrelated = 허브_notrelated[허브_notrelated['content'].str.contains('포도허브', na = False) == False]\n",
        "허브_notrelated = 허브_notrelated[허브_notrelated['content'].str.contains('좌표', na = False) == False] \n",
        "허브_notrelated = 허브_notrelated[허브_notrelated['content'].str.contains('\b주사', na = False) == False]\n",
        "허브_notrelated = 허브_notrelated[허브_notrelated['content'].str.contains('p i n k m a n 1 1 4', na = False) == False]"
      ],
      "metadata": {
        "id": "CDmoPtMjhsqD"
      },
      "execution_count": 137,
      "outputs": []
    },
    {
      "cell_type": "code",
      "source": [
        "허브.drop(허브_notrelated.index, axis=0, inplace=True)"
      ],
      "metadata": {
        "id": "67IXFa_uj5QV"
      },
      "execution_count": 140,
      "outputs": []
    },
    {
      "cell_type": "code",
      "source": [
        "허브.to_csv('허브_final.csv', index = False)"
      ],
      "metadata": {
        "id": "prBR3ScCh6EE"
      },
      "execution_count": 142,
      "outputs": []
    },
    {
      "cell_type": "code",
      "source": [],
      "metadata": {
        "id": "q49tpHfiiQkm"
      },
      "execution_count": null,
      "outputs": []
    }
  ]
}