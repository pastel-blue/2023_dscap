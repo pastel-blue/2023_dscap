{
  "nbformat": 4,
  "nbformat_minor": 0,
  "metadata": {
    "colab": {
      "provenance": []
    },
    "kernelspec": {
      "name": "python3",
      "display_name": "Python 3"
    },
    "language_info": {
      "name": "python"
    },
    "accelerator": "GPU",
    "gpuClass": "standard"
  },
  "cells": [
    {
      "cell_type": "code",
      "source": [
        "import pandas as pd"
      ],
      "metadata": {
        "id": "bjbja_X0wb-J"
      },
      "execution_count": null,
      "outputs": []
    },
    {
      "cell_type": "code",
      "source": [
        "아편 = pd.read_csv('아편_concat.csv')"
      ],
      "metadata": {
        "id": "ZnnlerHJ0bwT",
        "colab": {
          "base_uri": "https://localhost:8080/",
          "height": 337
        },
        "outputId": "662c3d27-ec73-4e98-9120-66e54795e18e"
      },
      "execution_count": null,
      "outputs": [
        {
          "output_type": "error",
          "ename": "FileNotFoundError",
          "evalue": "ignored",
          "traceback": [
            "\u001b[0;31m---------------------------------------------------------------------------\u001b[0m",
            "\u001b[0;31mFileNotFoundError\u001b[0m                         Traceback (most recent call last)",
            "\u001b[0;32m<ipython-input-2-fccfb7f37ef2>\u001b[0m in \u001b[0;36m<cell line: 1>\u001b[0;34m()\u001b[0m\n\u001b[0;32m----> 1\u001b[0;31m \u001b[0m아편\u001b[0m \u001b[0;34m=\u001b[0m \u001b[0mpd\u001b[0m\u001b[0;34m.\u001b[0m\u001b[0mread_csv\u001b[0m\u001b[0;34m(\u001b[0m\u001b[0;34m'아편_concat.csv'\u001b[0m\u001b[0;34m)\u001b[0m\u001b[0;34m\u001b[0m\u001b[0;34m\u001b[0m\u001b[0m\n\u001b[0m",
            "\u001b[0;32m/usr/local/lib/python3.9/dist-packages/pandas/util/_decorators.py\u001b[0m in \u001b[0;36mwrapper\u001b[0;34m(*args, **kwargs)\u001b[0m\n\u001b[1;32m    209\u001b[0m                 \u001b[0;32melse\u001b[0m\u001b[0;34m:\u001b[0m\u001b[0;34m\u001b[0m\u001b[0;34m\u001b[0m\u001b[0m\n\u001b[1;32m    210\u001b[0m                     \u001b[0mkwargs\u001b[0m\u001b[0;34m[\u001b[0m\u001b[0mnew_arg_name\u001b[0m\u001b[0;34m]\u001b[0m \u001b[0;34m=\u001b[0m \u001b[0mnew_arg_value\u001b[0m\u001b[0;34m\u001b[0m\u001b[0;34m\u001b[0m\u001b[0m\n\u001b[0;32m--> 211\u001b[0;31m             \u001b[0;32mreturn\u001b[0m \u001b[0mfunc\u001b[0m\u001b[0;34m(\u001b[0m\u001b[0;34m*\u001b[0m\u001b[0margs\u001b[0m\u001b[0;34m,\u001b[0m \u001b[0;34m**\u001b[0m\u001b[0mkwargs\u001b[0m\u001b[0;34m)\u001b[0m\u001b[0;34m\u001b[0m\u001b[0;34m\u001b[0m\u001b[0m\n\u001b[0m\u001b[1;32m    212\u001b[0m \u001b[0;34m\u001b[0m\u001b[0m\n\u001b[1;32m    213\u001b[0m         \u001b[0;32mreturn\u001b[0m \u001b[0mcast\u001b[0m\u001b[0;34m(\u001b[0m\u001b[0mF\u001b[0m\u001b[0;34m,\u001b[0m \u001b[0mwrapper\u001b[0m\u001b[0;34m)\u001b[0m\u001b[0;34m\u001b[0m\u001b[0;34m\u001b[0m\u001b[0m\n",
            "\u001b[0;32m/usr/local/lib/python3.9/dist-packages/pandas/util/_decorators.py\u001b[0m in \u001b[0;36mwrapper\u001b[0;34m(*args, **kwargs)\u001b[0m\n\u001b[1;32m    329\u001b[0m                     \u001b[0mstacklevel\u001b[0m\u001b[0;34m=\u001b[0m\u001b[0mfind_stack_level\u001b[0m\u001b[0;34m(\u001b[0m\u001b[0;34m)\u001b[0m\u001b[0;34m,\u001b[0m\u001b[0;34m\u001b[0m\u001b[0;34m\u001b[0m\u001b[0m\n\u001b[1;32m    330\u001b[0m                 )\n\u001b[0;32m--> 331\u001b[0;31m             \u001b[0;32mreturn\u001b[0m \u001b[0mfunc\u001b[0m\u001b[0;34m(\u001b[0m\u001b[0;34m*\u001b[0m\u001b[0margs\u001b[0m\u001b[0;34m,\u001b[0m \u001b[0;34m**\u001b[0m\u001b[0mkwargs\u001b[0m\u001b[0;34m)\u001b[0m\u001b[0;34m\u001b[0m\u001b[0;34m\u001b[0m\u001b[0m\n\u001b[0m\u001b[1;32m    332\u001b[0m \u001b[0;34m\u001b[0m\u001b[0m\n\u001b[1;32m    333\u001b[0m         \u001b[0;31m# error: \"Callable[[VarArg(Any), KwArg(Any)], Any]\" has no\u001b[0m\u001b[0;34m\u001b[0m\u001b[0;34m\u001b[0m\u001b[0m\n",
            "\u001b[0;32m/usr/local/lib/python3.9/dist-packages/pandas/io/parsers/readers.py\u001b[0m in \u001b[0;36mread_csv\u001b[0;34m(filepath_or_buffer, sep, delimiter, header, names, index_col, usecols, squeeze, prefix, mangle_dupe_cols, dtype, engine, converters, true_values, false_values, skipinitialspace, skiprows, skipfooter, nrows, na_values, keep_default_na, na_filter, verbose, skip_blank_lines, parse_dates, infer_datetime_format, keep_date_col, date_parser, dayfirst, cache_dates, iterator, chunksize, compression, thousands, decimal, lineterminator, quotechar, quoting, doublequote, escapechar, comment, encoding, encoding_errors, dialect, error_bad_lines, warn_bad_lines, on_bad_lines, delim_whitespace, low_memory, memory_map, float_precision, storage_options)\u001b[0m\n\u001b[1;32m    948\u001b[0m     \u001b[0mkwds\u001b[0m\u001b[0;34m.\u001b[0m\u001b[0mupdate\u001b[0m\u001b[0;34m(\u001b[0m\u001b[0mkwds_defaults\u001b[0m\u001b[0;34m)\u001b[0m\u001b[0;34m\u001b[0m\u001b[0;34m\u001b[0m\u001b[0m\n\u001b[1;32m    949\u001b[0m \u001b[0;34m\u001b[0m\u001b[0m\n\u001b[0;32m--> 950\u001b[0;31m     \u001b[0;32mreturn\u001b[0m \u001b[0m_read\u001b[0m\u001b[0;34m(\u001b[0m\u001b[0mfilepath_or_buffer\u001b[0m\u001b[0;34m,\u001b[0m \u001b[0mkwds\u001b[0m\u001b[0;34m)\u001b[0m\u001b[0;34m\u001b[0m\u001b[0;34m\u001b[0m\u001b[0m\n\u001b[0m\u001b[1;32m    951\u001b[0m \u001b[0;34m\u001b[0m\u001b[0m\n\u001b[1;32m    952\u001b[0m \u001b[0;34m\u001b[0m\u001b[0m\n",
            "\u001b[0;32m/usr/local/lib/python3.9/dist-packages/pandas/io/parsers/readers.py\u001b[0m in \u001b[0;36m_read\u001b[0;34m(filepath_or_buffer, kwds)\u001b[0m\n\u001b[1;32m    603\u001b[0m \u001b[0;34m\u001b[0m\u001b[0m\n\u001b[1;32m    604\u001b[0m     \u001b[0;31m# Create the parser.\u001b[0m\u001b[0;34m\u001b[0m\u001b[0;34m\u001b[0m\u001b[0m\n\u001b[0;32m--> 605\u001b[0;31m     \u001b[0mparser\u001b[0m \u001b[0;34m=\u001b[0m \u001b[0mTextFileReader\u001b[0m\u001b[0;34m(\u001b[0m\u001b[0mfilepath_or_buffer\u001b[0m\u001b[0;34m,\u001b[0m \u001b[0;34m**\u001b[0m\u001b[0mkwds\u001b[0m\u001b[0;34m)\u001b[0m\u001b[0;34m\u001b[0m\u001b[0;34m\u001b[0m\u001b[0m\n\u001b[0m\u001b[1;32m    606\u001b[0m \u001b[0;34m\u001b[0m\u001b[0m\n\u001b[1;32m    607\u001b[0m     \u001b[0;32mif\u001b[0m \u001b[0mchunksize\u001b[0m \u001b[0;32mor\u001b[0m \u001b[0miterator\u001b[0m\u001b[0;34m:\u001b[0m\u001b[0;34m\u001b[0m\u001b[0;34m\u001b[0m\u001b[0m\n",
            "\u001b[0;32m/usr/local/lib/python3.9/dist-packages/pandas/io/parsers/readers.py\u001b[0m in \u001b[0;36m__init__\u001b[0;34m(self, f, engine, **kwds)\u001b[0m\n\u001b[1;32m   1440\u001b[0m \u001b[0;34m\u001b[0m\u001b[0m\n\u001b[1;32m   1441\u001b[0m         \u001b[0mself\u001b[0m\u001b[0;34m.\u001b[0m\u001b[0mhandles\u001b[0m\u001b[0;34m:\u001b[0m \u001b[0mIOHandles\u001b[0m \u001b[0;34m|\u001b[0m \u001b[0;32mNone\u001b[0m \u001b[0;34m=\u001b[0m \u001b[0;32mNone\u001b[0m\u001b[0;34m\u001b[0m\u001b[0;34m\u001b[0m\u001b[0m\n\u001b[0;32m-> 1442\u001b[0;31m         \u001b[0mself\u001b[0m\u001b[0;34m.\u001b[0m\u001b[0m_engine\u001b[0m \u001b[0;34m=\u001b[0m \u001b[0mself\u001b[0m\u001b[0;34m.\u001b[0m\u001b[0m_make_engine\u001b[0m\u001b[0;34m(\u001b[0m\u001b[0mf\u001b[0m\u001b[0;34m,\u001b[0m \u001b[0mself\u001b[0m\u001b[0;34m.\u001b[0m\u001b[0mengine\u001b[0m\u001b[0;34m)\u001b[0m\u001b[0;34m\u001b[0m\u001b[0;34m\u001b[0m\u001b[0m\n\u001b[0m\u001b[1;32m   1443\u001b[0m \u001b[0;34m\u001b[0m\u001b[0m\n\u001b[1;32m   1444\u001b[0m     \u001b[0;32mdef\u001b[0m \u001b[0mclose\u001b[0m\u001b[0;34m(\u001b[0m\u001b[0mself\u001b[0m\u001b[0;34m)\u001b[0m \u001b[0;34m->\u001b[0m \u001b[0;32mNone\u001b[0m\u001b[0;34m:\u001b[0m\u001b[0;34m\u001b[0m\u001b[0;34m\u001b[0m\u001b[0m\n",
            "\u001b[0;32m/usr/local/lib/python3.9/dist-packages/pandas/io/parsers/readers.py\u001b[0m in \u001b[0;36m_make_engine\u001b[0;34m(self, f, engine)\u001b[0m\n\u001b[1;32m   1733\u001b[0m                 \u001b[0;32mif\u001b[0m \u001b[0;34m\"b\"\u001b[0m \u001b[0;32mnot\u001b[0m \u001b[0;32min\u001b[0m \u001b[0mmode\u001b[0m\u001b[0;34m:\u001b[0m\u001b[0;34m\u001b[0m\u001b[0;34m\u001b[0m\u001b[0m\n\u001b[1;32m   1734\u001b[0m                     \u001b[0mmode\u001b[0m \u001b[0;34m+=\u001b[0m \u001b[0;34m\"b\"\u001b[0m\u001b[0;34m\u001b[0m\u001b[0;34m\u001b[0m\u001b[0m\n\u001b[0;32m-> 1735\u001b[0;31m             self.handles = get_handle(\n\u001b[0m\u001b[1;32m   1736\u001b[0m                 \u001b[0mf\u001b[0m\u001b[0;34m,\u001b[0m\u001b[0;34m\u001b[0m\u001b[0;34m\u001b[0m\u001b[0m\n\u001b[1;32m   1737\u001b[0m                 \u001b[0mmode\u001b[0m\u001b[0;34m,\u001b[0m\u001b[0;34m\u001b[0m\u001b[0;34m\u001b[0m\u001b[0m\n",
            "\u001b[0;32m/usr/local/lib/python3.9/dist-packages/pandas/io/common.py\u001b[0m in \u001b[0;36mget_handle\u001b[0;34m(path_or_buf, mode, encoding, compression, memory_map, is_text, errors, storage_options)\u001b[0m\n\u001b[1;32m    854\u001b[0m         \u001b[0;32mif\u001b[0m \u001b[0mioargs\u001b[0m\u001b[0;34m.\u001b[0m\u001b[0mencoding\u001b[0m \u001b[0;32mand\u001b[0m \u001b[0;34m\"b\"\u001b[0m \u001b[0;32mnot\u001b[0m \u001b[0;32min\u001b[0m \u001b[0mioargs\u001b[0m\u001b[0;34m.\u001b[0m\u001b[0mmode\u001b[0m\u001b[0;34m:\u001b[0m\u001b[0;34m\u001b[0m\u001b[0;34m\u001b[0m\u001b[0m\n\u001b[1;32m    855\u001b[0m             \u001b[0;31m# Encoding\u001b[0m\u001b[0;34m\u001b[0m\u001b[0;34m\u001b[0m\u001b[0m\n\u001b[0;32m--> 856\u001b[0;31m             handle = open(\n\u001b[0m\u001b[1;32m    857\u001b[0m                 \u001b[0mhandle\u001b[0m\u001b[0;34m,\u001b[0m\u001b[0;34m\u001b[0m\u001b[0;34m\u001b[0m\u001b[0m\n\u001b[1;32m    858\u001b[0m                 \u001b[0mioargs\u001b[0m\u001b[0;34m.\u001b[0m\u001b[0mmode\u001b[0m\u001b[0;34m,\u001b[0m\u001b[0;34m\u001b[0m\u001b[0;34m\u001b[0m\u001b[0m\n",
            "\u001b[0;31mFileNotFoundError\u001b[0m: [Errno 2] No such file or directory: '아편_concat.csv'"
          ]
        }
      ]
    },
    {
      "cell_type": "code",
      "source": [
        "메스암페타민 = pd.read_csv('메스암페타민_concat.csv')"
      ],
      "metadata": {
        "id": "GIsaeF0E7POZ"
      },
      "execution_count": null,
      "outputs": []
    },
    {
      "cell_type": "markdown",
      "source": [
        "## 분리된 자모음 결합 코드"
      ],
      "metadata": {
        "id": "03G0708fh7RO"
      }
    },
    {
      "cell_type": "code",
      "source": [
        "__all__ = [\"split_syllable_char\", \"split_syllables\",\n",
        "           \"join_jamos\", \"join_jamos_char\",\n",
        "           \"CHAR_INITIALS\", \"CHAR_MEDIALS\", \"CHAR_FINALS\"]\n",
        "\n",
        "import itertools\n",
        "\n",
        "INITIAL = 0x001\n",
        "MEDIAL = 0x010\n",
        "FINAL = 0x100\n",
        "CHAR_LISTS = {\n",
        "    INITIAL: list(map(chr, [\n",
        "        0x3131, 0x3132, 0x3134, 0x3137, 0x3138, 0x3139,\n",
        "        0x3141, 0x3142, 0x3143, 0x3145, 0x3146, 0x3147,\n",
        "        0x3148, 0x3149, 0x314a, 0x314b, 0x314c, 0x314d,\n",
        "        0x314e\n",
        "    ])),\n",
        "    MEDIAL: list(map(chr, [\n",
        "        0x314f, 0x3150, 0x3151, 0x3152, 0x3153, 0x3154,\n",
        "        0x3155, 0x3156, 0x3157, 0x3158, 0x3159, 0x315a,\n",
        "        0x315b, 0x315c, 0x315d, 0x315e, 0x315f, 0x3160,\n",
        "        0x3161, 0x3162, 0x3163\n",
        "    ])),\n",
        "    FINAL: list(map(chr, [\n",
        "        0x3131, 0x3132, 0x3133, 0x3134, 0x3135, 0x3136,\n",
        "        0x3137, 0x3139, 0x313a, 0x313b, 0x313c, 0x313d,\n",
        "        0x313e, 0x313f, 0x3140, 0x3141, 0x3142, 0x3144,\n",
        "        0x3145, 0x3146, 0x3147, 0x3148, 0x314a, 0x314b,\n",
        "        0x314c, 0x314d, 0x314e\n",
        "    ]))\n",
        "}\n",
        "CHAR_INITIALS = CHAR_LISTS[INITIAL]\n",
        "CHAR_MEDIALS = CHAR_LISTS[MEDIAL]\n",
        "CHAR_FINALS = CHAR_LISTS[FINAL]\n",
        "CHAR_SETS = {k: set(v) for k, v in CHAR_LISTS.items()}\n",
        "CHARSET = set(itertools.chain(*CHAR_SETS.values()))\n",
        "CHAR_INDICES = {k: {c: i for i, c in enumerate(v)}\n",
        "                for k, v in CHAR_LISTS.items()}\n",
        "\n",
        "\n",
        "def is_hangul_syllable(c):\n",
        "    return 0xac00 <= ord(c) <= 0xd7a3  # Hangul Syllables\n",
        "\n",
        "\n",
        "def is_hangul_jamo(c):\n",
        "    return 0x1100 <= ord(c) <= 0x11ff  # Hangul Jamo\n",
        "\n",
        "\n",
        "def is_hangul_compat_jamo(c):\n",
        "    return 0x3130 <= ord(c) <= 0x318f  # Hangul Compatibility Jamo\n",
        "\n",
        "\n",
        "def is_hangul_jamo_exta(c):\n",
        "    return 0xa960 <= ord(c) <= 0xa97f  # Hangul Jamo Extended-A\n",
        "\n",
        "\n",
        "def is_hangul_jamo_extb(c):\n",
        "    return 0xd7b0 <= ord(c) <= 0xd7ff  # Hangul Jamo Extended-B\n",
        "\n",
        "\n",
        "def is_hangul(c):\n",
        "    return (is_hangul_syllable(c) or\n",
        "            is_hangul_jamo(c) or\n",
        "            is_hangul_compat_jamo(c) or\n",
        "            is_hangul_jamo_exta(c) or\n",
        "            is_hangul_jamo_extb(c))\n",
        "\n",
        "\n",
        "def is_supported_hangul(c):\n",
        "    return is_hangul_syllable(c) or is_hangul_compat_jamo(c)\n",
        "\n",
        "\n",
        "def check_hangul(c, jamo_only=False):\n",
        "    if not ((jamo_only or is_hangul_compat_jamo(c)) or is_supported_hangul(c)):\n",
        "        raise ValueError(f\"'{c}' is not a supported hangul character. \"\n",
        "                         f\"'Hangul Syllables' (0xac00 ~ 0xd7a3) and \"\n",
        "                         f\"'Hangul Compatibility Jamos' (0x3130 ~ 0x318f) are \"\n",
        "                         f\"supported at the moment.\")\n",
        "\n",
        "\n",
        "def get_jamo_type(c):\n",
        "    check_hangul(c)\n",
        "    assert is_hangul_compat_jamo(c), f\"not a jamo: {ord(c):x}\"\n",
        "    return sum(t for t, s in CHAR_SETS.items() if c in s)\n",
        "\n",
        "\n",
        "def split_syllable_char(c):\n",
        "    \"\"\"\n",
        "    Splits a given korean syllable into its components. Each component is\n",
        "    represented by Unicode in 'Hangul Compatibility Jamo' range.\n",
        "    Arguments:\n",
        "        c: A Korean character.\n",
        "    Returns:\n",
        "        A triple (initial, medial, final) of Hangul Compatibility Jamos.\n",
        "        If no jamo corresponds to a position, `None` is returned there.\n",
        "    Example:\n",
        "        >>> split_syllable_char(\"안\")\n",
        "        (\"ㅇ\", \"ㅏ\", \"ㄴ\")\n",
        "        >>> split_syllable_char(\"고\")\n",
        "        (\"ㄱ\", \"ㅗ\", None)\n",
        "        >>> split_syllable_char(\"ㅗ\")\n",
        "        (None, \"ㅗ\", None)\n",
        "        >>> split_syllable_char(\"ㅇ\")\n",
        "        (\"ㅇ\", None, None)\n",
        "    \"\"\"\n",
        "    check_hangul(c)\n",
        "    if len(c) != 1:\n",
        "        raise ValueError(\"Input string must have exactly one character.\")\n",
        "\n",
        "    init, med, final = None, None, None\n",
        "    if is_hangul_syllable(c):\n",
        "        offset = ord(c) - 0xac00\n",
        "        x = (offset - offset % 28) // 28\n",
        "        init, med, final = x // 21, x % 21, offset % 28\n",
        "        if not final:\n",
        "            final = None\n",
        "        else:\n",
        "            final -= 1\n",
        "    else:\n",
        "        pos = get_jamo_type(c)\n",
        "        if pos & INITIAL == INITIAL:\n",
        "            pos = INITIAL\n",
        "        elif pos & MEDIAL == MEDIAL:\n",
        "            pos = MEDIAL\n",
        "        elif pos & FINAL == FINAL:\n",
        "            pos = FINAL\n",
        "        idx = CHAR_INDICES[pos][c]\n",
        "        if pos == INITIAL:\n",
        "            init = idx\n",
        "        elif pos == MEDIAL:\n",
        "            med = idx\n",
        "        else:\n",
        "            final = idx\n",
        "    return tuple(CHAR_LISTS[pos][idx] if idx is not None else None\n",
        "                 for pos, idx in\n",
        "                 zip([INITIAL, MEDIAL, FINAL], [init, med, final]))\n",
        "\n",
        "\n",
        "def split_syllables(s, ignore_err=True, pad=None):\n",
        "    \"\"\"\n",
        "    Performs syllable-split on a string.\n",
        "    Arguments:\n",
        "        s (str): A string (possibly mixed with non-Hangul characters).\n",
        "        ignore_err (bool): If set False, it ensures that all characters in\n",
        "            the string are Hangul-splittable and throws a ValueError otherwise.\n",
        "            (default: True)\n",
        "        pad (str): Pad empty jamo positions (initial, medial, or final) with\n",
        "            `pad` character. This is useful for cases where fixed-length\n",
        "            strings are needed. (default: None)\n",
        "    Returns:\n",
        "        Hangul-split string\n",
        "    Example:\n",
        "        >>> split_syllables(\"안녕하세요\")\n",
        "        \"ㅇㅏㄴㄴㅕㅇㅎㅏㅅㅔㅇㅛ\"\n",
        "        >>> split_syllables(\"안녕하세요~~\", ignore_err=False)\n",
        "        ValueError: encountered an unsupported character: ~ (0x7e)\n",
        "        >>> split_syllables(\"안녕하세요ㅛ\", pad=\"x\")\n",
        "        'ㅇㅏㄴㄴㅕㅇㅎㅏxㅅㅔxㅇㅛxxㅛx'\n",
        "    \"\"\"\n",
        "\n",
        "    def try_split(c):\n",
        "        try:\n",
        "            return split_syllable_char(c)\n",
        "        except ValueError:\n",
        "            if ignore_err:\n",
        "                return (c,)\n",
        "            raise ValueError(f\"encountered an unsupported character: \"\n",
        "                             f\"{c} (0x{ord(c):x})\")\n",
        "\n",
        "    s = map(try_split, s)\n",
        "    if pad is not None:\n",
        "        tuples = map(lambda x: tuple(pad if y is None else y for y in x), s)\n",
        "    else:\n",
        "        tuples = map(lambda x: filter(None, x), s)\n",
        "    return \"\".join(itertools.chain(*tuples))\n",
        "\n",
        "\n",
        "def join_jamos_char(init, med, final=None):\n",
        "    \"\"\"\n",
        "    Combines jamos into a single syllable.\n",
        "    Arguments:\n",
        "        init (str): Initial jao.\n",
        "        med (str): Medial jamo.\n",
        "        final (str): Final jamo. If not supplied, the final syllable is made\n",
        "            without the final. (default: None)\n",
        "    Returns:\n",
        "        A Korean syllable.\n",
        "    \"\"\"\n",
        "    chars = (init, med, final)\n",
        "    for c in filter(None, chars):\n",
        "        check_hangul(c, jamo_only=True)\n",
        "\n",
        "    idx = tuple(CHAR_INDICES[pos][c] if c is not None else c\n",
        "                for pos, c in zip((INITIAL, MEDIAL, FINAL), chars))\n",
        "    init_idx, med_idx, final_idx = idx\n",
        "    # final index must be shifted once as\n",
        "    # final index with 0 points to syllables without final\n",
        "    final_idx = 0 if final_idx is None else final_idx + 1\n",
        "    return chr(0xac00 + 28 * 21 * init_idx + 28 * med_idx + final_idx)\n",
        "\n",
        "\n",
        "def join_jamos(s, ignore_err=True):\n",
        "    \"\"\"\n",
        "    Combines a sequence of jamos to produce a sequence of syllables.\n",
        "    Arguments:\n",
        "        s (str): A string (possible mixed with non-jamo characters).\n",
        "        ignore_err (bool): If set False, it will ensure that all characters\n",
        "            will be consumed for the making of syllables. It will throw a\n",
        "            ValueError when it fails to do so. (default: True)\n",
        "    Returns:\n",
        "        A string\n",
        "    Example:\n",
        "        >>> join_jamos(\"ㅇㅏㄴㄴㅕㅇㅎㅏㅅㅔㅇㅛ\")\n",
        "        \"안녕하세요\"\n",
        "        >>> join_jamos(\"ㅇㅏㄴㄴㄴㅕㅇㅎㅏㅅㅔㅇㅛ\")\n",
        "        \"안ㄴ녕하세요\"\n",
        "        >>> join_jamos()\n",
        "    \"\"\"\n",
        "    last_t = 0\n",
        "    queue = []\n",
        "    new_string = \"\"\n",
        "\n",
        "    def flush(n=0):\n",
        "        new_queue = []\n",
        "        while len(queue) > n:\n",
        "            new_queue.append(queue.pop())\n",
        "        if len(new_queue) == 1:\n",
        "            if not ignore_err:\n",
        "                raise ValueError(f\"invalid jamo character: {new_queue[0]}\")\n",
        "            result = new_queue[0]\n",
        "        elif len(new_queue) >= 2:\n",
        "            try:\n",
        "                result = join_jamos_char(*new_queue)\n",
        "            except (ValueError, KeyError):\n",
        "                # Invalid jamo combination\n",
        "                if not ignore_err:\n",
        "                    raise ValueError(f\"invalid jamo characters: {new_queue}\")\n",
        "                result = \"\".join(new_queue)\n",
        "        else:\n",
        "            result = None\n",
        "        return result\n",
        "\n",
        "    for c in s:\n",
        "        if c not in CHARSET:\n",
        "            if queue:\n",
        "                new_c = flush() + c\n",
        "            else:\n",
        "                new_c = c\n",
        "            last_t = 0\n",
        "        else:\n",
        "            t = get_jamo_type(c)\n",
        "            new_c = None\n",
        "            if t & FINAL == FINAL:\n",
        "                if not (last_t == MEDIAL):\n",
        "                    new_c = flush()\n",
        "            elif t == INITIAL:\n",
        "                new_c = flush()\n",
        "            elif t == MEDIAL:\n",
        "                if last_t & INITIAL == INITIAL:\n",
        "                    new_c = flush(1)\n",
        "                else:\n",
        "                    new_c = flush()\n",
        "            last_t = t\n",
        "            queue.insert(0, c)\n",
        "        if new_c:\n",
        "            new_string += new_c\n",
        "    if queue:\n",
        "        new_string += flush()\n",
        "    return new_string"
      ],
      "metadata": {
        "id": "b0QCIch9vF16"
      },
      "execution_count": null,
      "outputs": []
    },
    {
      "cell_type": "markdown",
      "source": [
        "# 데이터프레임 자모 통합\n",
        "## 해시태그, 내용, 닉네임"
      ],
      "metadata": {
        "id": "b8D5E2Mz-fh4"
      }
    },
    {
      "cell_type": "code",
      "source": [
        "for i in range(len(메스암페타민)):\n",
        "\n",
        "  # 해시태그 자모 통합, 빈 문자열인 경우 제외\n",
        "  if str(메스암페타민[\"hashtags\"][i]) != 'nan':\n",
        "    메스암페타민[\"hashtags\"][i] = join_jamos(메스암페타민[\"hashtags\"][i])\n",
        "\n",
        "  # 내용 자모 통합, 빈 문자열인 경우 제외\n",
        "  if str(메스암페타민[\"content\"][i]) != 'nan':\n",
        "    메스암페타민[\"content\"][i] = join_jamos(메스암페타민[\"content\"][i])\n",
        "\n",
        "  # displayname 자모 통합, 빈 문자열인 경우 제외\n",
        "  if str(메스암페타민[\"user.displayname\"][i]) != 'nan':\n",
        "    메스암페타민[\"user.displayname\"][i] = join_jamos(메스암페타민[\"user.displayname\"][i])"
      ],
      "metadata": {
        "colab": {
          "base_uri": "https://localhost:8080/"
        },
        "id": "9lhey0Hvz5Na",
        "outputId": "397fd5c8-4545-49df-f1d1-27d7b24c6117"
      },
      "execution_count": null,
      "outputs": [
        {
          "output_type": "stream",
          "name": "stderr",
          "text": [
            "<ipython-input-103-3c32e0e0fc2c>:9: SettingWithCopyWarning: \n",
            "A value is trying to be set on a copy of a slice from a DataFrame\n",
            "\n",
            "See the caveats in the documentation: https://pandas.pydata.org/pandas-docs/stable/user_guide/indexing.html#returning-a-view-versus-a-copy\n",
            "  메스암페타민[\"content\"][i] = join_jamos(메스암페타민[\"content\"][i])\n",
            "<ipython-input-103-3c32e0e0fc2c>:13: SettingWithCopyWarning: \n",
            "A value is trying to be set on a copy of a slice from a DataFrame\n",
            "\n",
            "See the caveats in the documentation: https://pandas.pydata.org/pandas-docs/stable/user_guide/indexing.html#returning-a-view-versus-a-copy\n",
            "  메스암페타민[\"user.displayname\"][i] = join_jamos(메스암페타민[\"user.displayname\"][i])\n",
            "<ipython-input-103-3c32e0e0fc2c>:5: SettingWithCopyWarning: \n",
            "A value is trying to be set on a copy of a slice from a DataFrame\n",
            "\n",
            "See the caveats in the documentation: https://pandas.pydata.org/pandas-docs/stable/user_guide/indexing.html#returning-a-view-versus-a-copy\n",
            "  메스암페타민[\"hashtags\"][i] = join_jamos(메스암페타민[\"hashtags\"][i])\n"
          ]
        }
      ]
    },
    {
      "cell_type": "code",
      "source": [
        "for i in range(len(아편)):\n",
        "\n",
        "  # 해시태그 자모 통합, 빈 문자열인 경우 제외\n",
        "  if str(아편[\"hashtags\"][i]) != 'nan':\n",
        "    아편[\"hashtags\"][i] = join_jamos(아편[\"hashtags\"][i])\n",
        "\n",
        "  # 내용 자모 통합, 빈 문자열인 경우 제외\n",
        "  if str(아편[\"content\"][i]) != 'nan':\n",
        "    아편[\"content\"][i] = join_jamos(아편[\"content\"][i])\n",
        "\n",
        "  # displayname 자모 통합, 빈 문자열인 경우 제외\n",
        "  if str(아편[\"user.displayname\"][i]) != 'nan':\n",
        "    아편[\"user.displayname\"][i] = join_jamos(아편[\"user.displayname\"][i])"
      ],
      "metadata": {
        "colab": {
          "base_uri": "https://localhost:8080/"
        },
        "id": "JBb_2fHU7ZBx",
        "outputId": "4b844657-bdf3-489a-f011-ed3c0efb650b"
      },
      "execution_count": null,
      "outputs": [
        {
          "output_type": "stream",
          "name": "stderr",
          "text": [
            "<ipython-input-89-6292bb414490>:5: SettingWithCopyWarning: \n",
            "A value is trying to be set on a copy of a slice from a DataFrame\n",
            "\n",
            "See the caveats in the documentation: https://pandas.pydata.org/pandas-docs/stable/user_guide/indexing.html#returning-a-view-versus-a-copy\n",
            "  아편[\"hashtags\"][i] = join_jamos(아편[\"hashtags\"][i])\n",
            "<ipython-input-89-6292bb414490>:9: SettingWithCopyWarning: \n",
            "A value is trying to be set on a copy of a slice from a DataFrame\n",
            "\n",
            "See the caveats in the documentation: https://pandas.pydata.org/pandas-docs/stable/user_guide/indexing.html#returning-a-view-versus-a-copy\n",
            "  아편[\"content\"][i] = join_jamos(아편[\"content\"][i])\n",
            "<ipython-input-89-6292bb414490>:13: SettingWithCopyWarning: \n",
            "A value is trying to be set on a copy of a slice from a DataFrame\n",
            "\n",
            "See the caveats in the documentation: https://pandas.pydata.org/pandas-docs/stable/user_guide/indexing.html#returning-a-view-versus-a-copy\n",
            "  아편[\"user.displayname\"][i] = join_jamos(아편[\"user.displayname\"][i])\n"
          ]
        }
      ]
    },
    {
      "cell_type": "markdown",
      "source": [
        "## 대소문자 통합"
      ],
      "metadata": {
        "id": "HYtzEd3HmvJZ"
      }
    },
    {
      "cell_type": "code",
      "source": [
        "아편 = pd.read_csv('아편_jamo.csv')\n",
        "메스암페타민 = pd.read_csv('메스암페타민_jamo.csv')"
      ],
      "metadata": {
        "id": "IGjhpY_8iFOw"
      },
      "execution_count": null,
      "outputs": []
    },
    {
      "cell_type": "code",
      "source": [
        "for i in range(len(메스암페타민)):\n",
        "\n",
        "  # 해시태그 자모 통합, 빈 문자열인 경우 제외\n",
        "  if str(메스암페타민[\"hashtags\"][i]) != 'nan':\n",
        "    메스암페타민[\"hashtags\"][i] = 메스암페타민[\"hashtags\"][i].lower()\n",
        "\n",
        "  # 내용 자모 통합, 빈 문자열인 경우 제외\n",
        "  if str(메스암페타민[\"content\"][i]) != 'nan':\n",
        "    메스암페타민[\"content\"][i] = 메스암페타민[\"content\"][i].lower()\n",
        "\n",
        "  # displayname 자모 통합, 빈 문자열인 경우 제외\n",
        "  if str(메스암페타민[\"user.displayname\"][i]) != 'nan':\n",
        "    메스암페타민[\"user.displayname\"][i] = 메스암페타민[\"user.displayname\"][i].lower()"
      ],
      "metadata": {
        "colab": {
          "base_uri": "https://localhost:8080/"
        },
        "id": "v7X5YiBWm8sE",
        "outputId": "5edd04ea-ebde-4adf-d118-3d62e87c933e"
      },
      "execution_count": null,
      "outputs": [
        {
          "output_type": "stream",
          "name": "stderr",
          "text": [
            "<ipython-input-17-c3e160da5e28>:9: SettingWithCopyWarning: \n",
            "A value is trying to be set on a copy of a slice from a DataFrame\n",
            "\n",
            "See the caveats in the documentation: https://pandas.pydata.org/pandas-docs/stable/user_guide/indexing.html#returning-a-view-versus-a-copy\n",
            "  메스암페타민[\"content\"][i] = 메스암페타민[\"content\"][i].lower()\n",
            "<ipython-input-17-c3e160da5e28>:13: SettingWithCopyWarning: \n",
            "A value is trying to be set on a copy of a slice from a DataFrame\n",
            "\n",
            "See the caveats in the documentation: https://pandas.pydata.org/pandas-docs/stable/user_guide/indexing.html#returning-a-view-versus-a-copy\n",
            "  메스암페타민[\"user.displayname\"][i] = 메스암페타민[\"user.displayname\"][i].lower()\n",
            "<ipython-input-17-c3e160da5e28>:5: SettingWithCopyWarning: \n",
            "A value is trying to be set on a copy of a slice from a DataFrame\n",
            "\n",
            "See the caveats in the documentation: https://pandas.pydata.org/pandas-docs/stable/user_guide/indexing.html#returning-a-view-versus-a-copy\n",
            "  메스암페타민[\"hashtags\"][i] = 메스암페타민[\"hashtags\"][i].lower()\n"
          ]
        }
      ]
    },
    {
      "cell_type": "code",
      "source": [
        "for i in range(len(아편)):\n",
        "\n",
        "  if str(아편[\"hashtags\"][i]) != 'nan':\n",
        "    아편[\"hashtags\"][i] = 아편[\"hashtags\"][i].lower()\n",
        "\n",
        "  if str(아편[\"content\"][i]) != 'nan':\n",
        "    아편[\"content\"][i] = 아편[\"content\"][i].lower()\n",
        "\n",
        "  if str(아편[\"user.displayname\"][i]) != 'nan':\n",
        "    아편[\"user.displayname\"][i] = 아편[\"user.displayname\"][i].lower()"
      ],
      "metadata": {
        "colab": {
          "base_uri": "https://localhost:8080/"
        },
        "id": "2qR7wDbPmeMw",
        "outputId": "64517246-073b-4085-eafd-70c3fc3e610b"
      },
      "execution_count": null,
      "outputs": [
        {
          "output_type": "stream",
          "name": "stderr",
          "text": [
            "<ipython-input-15-72c0e99b7183>:4: SettingWithCopyWarning: \n",
            "A value is trying to be set on a copy of a slice from a DataFrame\n",
            "\n",
            "See the caveats in the documentation: https://pandas.pydata.org/pandas-docs/stable/user_guide/indexing.html#returning-a-view-versus-a-copy\n",
            "  아편[\"hashtags\"][i] = 아편[\"hashtags\"][i].lower()\n",
            "<ipython-input-15-72c0e99b7183>:7: SettingWithCopyWarning: \n",
            "A value is trying to be set on a copy of a slice from a DataFrame\n",
            "\n",
            "See the caveats in the documentation: https://pandas.pydata.org/pandas-docs/stable/user_guide/indexing.html#returning-a-view-versus-a-copy\n",
            "  아편[\"content\"][i] = 아편[\"content\"][i].lower()\n",
            "<ipython-input-15-72c0e99b7183>:10: SettingWithCopyWarning: \n",
            "A value is trying to be set on a copy of a slice from a DataFrame\n",
            "\n",
            "See the caveats in the documentation: https://pandas.pydata.org/pandas-docs/stable/user_guide/indexing.html#returning-a-view-versus-a-copy\n",
            "  아편[\"user.displayname\"][i] = 아편[\"user.displayname\"][i].lower()\n"
          ]
        }
      ]
    },
    {
      "cell_type": "code",
      "source": [
        "아편.to_csv('아편_integrated.csv')\n",
        "메스암페타민.to_csv('메스암페타민_integrated.csv')"
      ],
      "metadata": {
        "id": "_yc7sOPV_SB6"
      },
      "execution_count": null,
      "outputs": []
    },
    {
      "cell_type": "code",
      "source": [],
      "metadata": {
        "id": "8kmARSmj_vob"
      },
      "execution_count": null,
      "outputs": []
    }
  ]
}