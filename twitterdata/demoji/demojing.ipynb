{
 "cells": [
  {
   "cell_type": "code",
   "execution_count": 1,
   "id": "7666ff55",
   "metadata": {},
   "outputs": [],
   "source": [
    "import pandas as pd\n",
    "import re\n",
    "import demoji"
   ]
  },
  {
   "cell_type": "code",
   "execution_count": 11,
   "id": "6d99b038",
   "metadata": {},
   "outputs": [],
   "source": [
    "# csv 불러오기\n",
    "df1 = pd.read_csv('Documents/GitHub/2023_dscap/twitterdata/아편/아편_concat.csv', encoding = 'utf-8')\n",
    "df2 = pd.read_csv('Documents/GitHub/2023_dscap/twitterdata/메스암페타민/메스암페타민_concat.csv', encoding = 'utf-8')"
   ]
  },
  {
   "cell_type": "code",
   "execution_count": 16,
   "id": "8847b6d8",
   "metadata": {},
   "outputs": [
    {
     "name": "stderr",
     "output_type": "stream",
     "text": [
      "C:\\Users\\seonh\\AppData\\Local\\Temp/ipykernel_21864/1360914251.py:3: FutureWarning: The default value of regex will change from True to False in a future version.\n",
      "  df1['content'] = df1['content'].str.replace('\\s+', ' ')\n"
     ]
    }
   ],
   "source": [
    "# 중복된 띄어쓰기,줄바꿈을 띄어쓰기 1개로 전체 바꾸기\n",
    "\n",
    "df1['content'] = df1['content'].str.replace('\\s+', ' ')"
   ]
  },
  {
   "cell_type": "code",
   "execution_count": 17,
   "id": "bc9661e5",
   "metadata": {
    "scrolled": true
   },
   "outputs": [
    {
     "name": "stderr",
     "output_type": "stream",
     "text": [
      "C:\\Users\\seonh\\AppData\\Local\\Temp/ipykernel_21864/1430934148.py:1: FutureWarning: The default value of regex will change from True to False in a future version.\n",
      "  df2['content'] = df2['content'].str.replace('\\s+', ' ')\n"
     ]
    }
   ],
   "source": [
    "df2['content'] = df2['content'].str.replace('\\s+', ' ')"
   ]
  },
  {
   "cell_type": "code",
   "execution_count": 18,
   "id": "3cfcc67a",
   "metadata": {},
   "outputs": [],
   "source": [
    "# 이모지 & 특수기호 제거\n",
    "\n",
    "df1['content'] = df1['content'].str.replace(pat = r'[^\\w]', repl = r' ', regex = True)"
   ]
  },
  {
   "cell_type": "code",
   "execution_count": 19,
   "id": "8aaf8a7c",
   "metadata": {},
   "outputs": [],
   "source": [
    "# 이모지 & 특수기호 제거\n",
    "\n",
    "df2['content'] = df2['content'].str.replace(pat = r'[^\\w]', repl = r' ', regex = True)"
   ]
  },
  {
   "cell_type": "code",
   "execution_count": 20,
   "id": "b8d10e06",
   "metadata": {},
   "outputs": [],
   "source": [
    "def clean_text(inputString):\n",
    "  text_rmv = re.sub('[-=+,#/\\?:^.*\\\"※`~ㆍ!』‘|\\(\\)\\[\\]`\\'…》\\”\\“\\’·]', ' ', inputString)\n",
    "  text_rmv = ' '.join(text_rmv.split())\n",
    "  return text_rmv"
   ]
  },
  {
   "cell_type": "code",
   "execution_count": 21,
   "id": "bfe2c010",
   "metadata": {},
   "outputs": [],
   "source": [
    "# 액센트 제거\n",
    "\n",
    "def remove_accents(raw_text):\n",
    "    \"\"\"Removes common accent characters.\n",
    "\n",
    "    \"\"\"\n",
    "\n",
    "    raw_text = re.sub(u\"[àáâãäåạ]\", 'a', raw_text)\n",
    "    raw_text = re.sub(u\"[èéêë]\", 'e', raw_text)\n",
    "    raw_text = re.sub(u\"[ìíîï]\", 'i', raw_text)\n",
    "    raw_text = re.sub(u\"[òóôõö]\", 'o', raw_text)\n",
    "    raw_text = re.sub(u\"[ùúûü]\", 'u', raw_text)\n",
    "    raw_text = re.sub(u\"[ýÿ]\", 'y', raw_text)\n",
    "    raw_text = re.sub(u\"[ß]\", 'ss', raw_text)\n",
    "    raw_text = re.sub(u\"[ñ]\", 'n', raw_text)\n",
    "    raw_text = re.sub(u\"[➍④]\", '4', raw_text)\n",
    "    raw_text = re.sub(u\"𝒂𝒕𝒐\", 'ato', raw_text)\n",
    "    raw_text = re.sub(u\"Аҳŗịṅḡ\", 'Axring', raw_text)\n",
    "    return raw_text"
   ]
  },
  {
   "cell_type": "code",
   "execution_count": 22,
   "id": "3474209c",
   "metadata": {},
   "outputs": [
    {
     "name": "stderr",
     "output_type": "stream",
     "text": [
      "C:\\Users\\seonh\\AppData\\Local\\Temp/ipykernel_21864/3425546984.py:5: SettingWithCopyWarning: \n",
      "A value is trying to be set on a copy of a slice from a DataFrame\n",
      "\n",
      "See the caveats in the documentation: https://pandas.pydata.org/pandas-docs/stable/user_guide/indexing.html#returning-a-view-versus-a-copy\n",
      "  df1['content'][i] = a\n"
     ]
    }
   ],
   "source": [
    "for i in range(len(df1['content'])):\n",
    "    a = clean_text(df1['content'][i])\n",
    "    a = remove_accents(a)\n",
    "    df1['content'][i] = a"
   ]
  },
  {
   "cell_type": "code",
   "execution_count": 23,
   "id": "963600f2",
   "metadata": {},
   "outputs": [
    {
     "name": "stderr",
     "output_type": "stream",
     "text": [
      "C:\\Users\\seonh\\AppData\\Local\\Temp/ipykernel_21864/3856276024.py:5: SettingWithCopyWarning: \n",
      "A value is trying to be set on a copy of a slice from a DataFrame\n",
      "\n",
      "See the caveats in the documentation: https://pandas.pydata.org/pandas-docs/stable/user_guide/indexing.html#returning-a-view-versus-a-copy\n",
      "  df2['content'][i] = a\n"
     ]
    }
   ],
   "source": [
    "for i in range(len(df2['content'])):\n",
    "    a = clean_text(df2['content'][i])\n",
    "    a = remove_accents(a)\n",
    "    df2['content'][i] = a"
   ]
  },
  {
   "cell_type": "code",
   "execution_count": 24,
   "id": "8c8b1a78",
   "metadata": {},
   "outputs": [],
   "source": [
    "df1.to_csv('Documents/GitHub/2023_dscap/twitterdata/아편/아편_demoji.csv', index = False)"
   ]
  },
  {
   "cell_type": "code",
   "execution_count": 25,
   "id": "633d71af",
   "metadata": {},
   "outputs": [],
   "source": [
    "df2.to_csv('Documents/GitHub/2023_dscap/twitterdata/메스암페타민/메스암페타민_demoji.csv', index = False)"
   ]
  }
 ],
 "metadata": {
  "kernelspec": {
   "display_name": "Python 3 (ipykernel)",
   "language": "python",
   "name": "python3"
  },
  "language_info": {
   "codemirror_mode": {
    "name": "ipython",
    "version": 3
   },
   "file_extension": ".py",
   "mimetype": "text/x-python",
   "name": "python",
   "nbconvert_exporter": "python",
   "pygments_lexer": "ipython3",
   "version": "3.9.7"
  }
 },
 "nbformat": 4,
 "nbformat_minor": 5
}
